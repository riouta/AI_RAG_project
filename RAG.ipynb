{
 "cells": [
  {
   "cell_type": "code",
   "execution_count": 20,
   "metadata": {},
   "outputs": [],
   "source": [
    "import getpass\n",
    "import os\n",
    "\n",
    "api_key= os.getenv(\"OPENAI_API_KEY\")\n",
    "os.environ[\"OPENAI_API_KEY\"] = api_key\n",
    "\n",
    "from langchain_openai import ChatOpenAI\n",
    "\n",
    "llm = ChatOpenAI(model=\"gpt-3.5-turbo\")"
   ]
  },
  {
   "cell_type": "code",
   "execution_count": null,
   "metadata": {},
   "outputs": [
    {
     "name": "stderr",
     "output_type": "stream",
     "text": [
      "C:\\Users\\MediaMonster\\AppData\\Local\\Packages\\PythonSoftwareFoundation.Python.3.12_qbz5n2kfra8p0\\LocalCache\\local-packages\\Python312\\site-packages\\langsmith\\client.py:354: LangSmithMissingAPIKeyWarning: API key must be provided when using hosted LangSmith API\n",
      "  warnings.warn(\n"
     ]
    },
    {
     "data": {
      "text/plain": [
       "\"La qualité de l'eau potable est réglementée par des directives européennes, notamment la directive 98/83/CE entrée en vigueur en 1998. En Belgique, la qualité de l'eau destinée à la consommation humaine est une compétence régionale. L'eau distribuée par les réseaux doit respecter des normes strictes en termes de qualité physico-chimique, chimique et microbiologique.\""
      ]
     },
     "execution_count": 21,
     "metadata": {},
     "output_type": "execute_result"
    }
   ],
   "source": [
    "import bs4\n",
    "from langchain import hub\n",
    "from langchain_chroma import Chroma\n",
    "from langchain_community.document_loaders import WebBaseLoader\n",
    "from langchain_core.output_parsers import StrOutputParser\n",
    "from langchain_core.runnables import RunnablePassthrough\n",
    "from langchain_openai import OpenAIEmbeddings\n",
    "from langchain_text_splitters import RecursiveCharacterTextSplitter\n",
    "import faiss\n",
    "import numpy as np\n",
    "\n",
    "websites= [\n",
    "    \"http://environnement.wallonie.be/de/eso/eau_distribution/\",\n",
    "    \"https://environment.ec.europa.eu/topics/water/water-wise-eu/belgium_en\",\n",
    "    \"https://environment.ec.europa.eu/topics/water/water-wise-eu/polluted-water_en\",\n",
    "    \"https://www.brusselstimes.com/1009591/flemish-drinking-water-highly-polluted-with-pfas-but-purifying-costs-millions\"\n",
    "]\n",
    "\n",
    "# Load, chunk and index the contents of the blog.\n",
    "loader = WebBaseLoader(\n",
    "    web_paths=websites,\n",
    "    bs_kwargs=dict(\n",
    "        parse_only=bs4.SoupStrainer(\"p\")\n",
    "        )\n",
    "    \n",
    ")\n",
    "docs = loader.load()\n",
    "\n",
    "text_splitter = RecursiveCharacterTextSplitter(chunk_size=1000, chunk_overlap=200)\n",
    "splits = text_splitter.split_documents(docs)\n",
    "\n",
    "#Embed and store the docs splits\n",
    "#vectorstore = Chroma.from_documents(documents=splits, embedding=OpenAIEmbeddings())\n",
    "\n",
    "#Embed documents and add to FAISS\n",
    "embedding_model = OpenAIEmbeddings()\n",
    "embeddings = embedding_model.embed_documents([split.page_content for split in splits])\n",
    "\n",
    "# Initialize FAISS index\n",
    "dimension = len(embeddings[0])\n",
    "index = faiss.IndexFlatL2(dimension)\n",
    "index.add(np.array(embeddings, dtype='float32'))  # Add embeddings to the index\n",
    "\n",
    "# Retrieve and generate using the relevant snippets of the blog.\n",
    "#retriever = vectorstore.as_retriever()\n",
    "\n",
    "#Create a custom retriever\n",
    "def retrieve_similar(query, k=5):\n",
    "    query_embedding = np.array([embedding_model.embed_query(query)], dtype='float32')\n",
    "    distances, indices = index.search(query_embedding, k)\n",
    "    return [splits[i] for i in indices[0]]\n",
    "\n",
    "prompt = hub.pull(\"rlm/rag-prompt\")\n",
    "\n",
    "def format_docs(docs):\n",
    "    return \"\\n\\n\".join(doc.page_content for doc in docs)\n",
    "\n",
    "rag_chain = (\n",
    "    {\"context\": lambda q: format_docs(retrieve_similar(q)), \"question\": RunnablePassthrough()}\n",
    "    | prompt\n",
    "    | llm\n",
    "    | StrOutputParser()\n",
    ")\n",
    "\n",
    "rag_chain.invoke(\"quelle est la qualité de l'eau?\")"
   ]
  },
  {
   "cell_type": "code",
   "execution_count": 22,
   "metadata": {},
   "outputs": [
    {
     "name": "stdout",
     "output_type": "stream",
     "text": [
      " Janvier 2018\n",
      "                    Cinquième révision\n",
      " Eau du robinetL’usage de l’eau à des fins alimentaires ou d’hygiène corporelle nécessite une excellente qualité physico-chimique, chimique et microbiologique.L’eau distribuée par réseaux constitue un des produits alimentaires les plus contrôlés en Région wallonne avec plus de 30.000 contrôles par an. Ces derniers sont réalisés depuis son origine jusqu'au robinet. L’eau de distribution doit répondre aux exigences de qualité imposées par la lé\n"
     ]
    }
   ],
   "source": [
    "print(docs[0].page_content[:500])"
   ]
  },
  {
   "cell_type": "code",
   "execution_count": 25,
   "metadata": {},
   "outputs": [
    {
     "name": "stdout",
     "output_type": "stream",
     "text": [
      "The drinking water on the Flemish side is polluted with PFAS, with 16.1% of tap measurements and analyses exceeding the strictest PFAS standards in 2022. This means that one in six samples did not meet the threshold of 4 nanograms per liter of drinking water. On the other hand, the article does not provide specific information on the percentage of contaminated drinking water in Wallonia. However, it does mention that concerns have been raised about the discovery of PFAS 'forever chemicals' in drinking water in northern Flanders and Wallonia, indicating that contamination is also a concern in Wallonia.\n"
     ]
    }
   ],
   "source": [
    "# Define custom prompts\n",
    "from langchain.prompts import PromptTemplate\n",
    "\n",
    "general_prompt = PromptTemplate(\n",
    "    input_variables=[\"context\", \"question\"],\n",
    "    template=\"Using the information provided:\\n{context}\\nAnswer the question:\\n{question}\"\n",
    ")\n",
    "\n",
    "detailed_analysis_prompt = PromptTemplate(\n",
    "    input_variables=[\"context\", \"question\"],\n",
    "    template=\"Based on the following detailed analysis:\\n{context}\\nProvide a comprehensive answer to the question:\\n{question}\"\n",
    ")\n",
    "\n",
    "summarized_response_prompt = PromptTemplate(\n",
    "    input_variables=[\"context\", \"question\"],\n",
    "    template=\"Summarize the following content:\\n{context}\\nAnswer briefly:\\n{question}\"\n",
    ")\n",
    "\n",
    "# Use a dictionary to manage different prompts\n",
    "prompt_choices = {\n",
    "    \"general\": general_prompt,\n",
    "    \"detailed\": detailed_analysis_prompt,\n",
    "    \"summary\": summarized_response_prompt\n",
    "}\n",
    "\n",
    "# Example: Select a specific prompt\n",
    "selected_prompt = prompt_choices[\"general\"]\n",
    "\n",
    "# Updated RAG chain\n",
    "rag_chain = (\n",
    "    {\"context\": lambda q: format_docs(retrieve_similar(q)), \"question\": RunnablePassthrough()}\n",
    "    | selected_prompt\n",
    "    | llm\n",
    "    | StrOutputParser()\n",
    ")\n",
    "\n",
    "# Example question\n",
    "response = rag_chain.invoke(\"how come is the drinking water of the flemish side is polluted? and in what percentage? how is it compared to the one in Wallonia?\")\n",
    "print(response)\n",
    "\n",
    "\n"
   ]
  },
  {
   "cell_type": "code",
   "execution_count": 26,
   "metadata": {},
   "outputs": [
    {
     "name": "stdout",
     "output_type": "stream",
     "text": [
      "Number of vectors in FAISS index: 70\n",
      "FAISS index saved.\n",
      "FAISS index reloaded.\n",
      "Number of vectors in reloaded FAISS index: 70\n"
     ]
    }
   ],
   "source": [
    "# Check the number of vectors stored in the index\n",
    "print(f\"Number of vectors in FAISS index: {index.ntotal}\")\n",
    "\n",
    "# Save the FAISS index to disk\n",
    "faiss.write_index(index, \"vector_index.faiss\")\n",
    "print(\"FAISS index saved.\")\n",
    "\n",
    "# Reload the FAISS index\n",
    "reloaded_index = faiss.read_index(\"vector_index.faiss\")\n",
    "print(\"FAISS index reloaded.\")\n",
    "print(f\"Number of vectors in reloaded FAISS index: {reloaded_index.ntotal}\")"
   ]
  },
  {
   "cell_type": "code",
   "execution_count": null,
   "metadata": {},
   "outputs": [],
   "source": []
  }
 ],
 "metadata": {
  "kernelspec": {
   "display_name": "Python 3",
   "language": "python",
   "name": "python3"
  },
  "language_info": {
   "codemirror_mode": {
    "name": "ipython",
    "version": 3
   },
   "file_extension": ".py",
   "mimetype": "text/x-python",
   "name": "python",
   "nbconvert_exporter": "python",
   "pygments_lexer": "ipython3",
   "version": "3.12.7"
  }
 },
 "nbformat": 4,
 "nbformat_minor": 2
}
